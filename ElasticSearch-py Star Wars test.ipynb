{
 "cells": [
  {
   "cell_type": "markdown",
   "metadata": {},
   "source": [
    "##Make sure ES is up and running"
   ]
  },
  {
   "cell_type": "code",
   "execution_count": 1,
   "metadata": {
    "collapsed": true
   },
   "outputs": [],
   "source": [
    "import requests"
   ]
  },
  {
   "cell_type": "code",
   "execution_count": 2,
   "metadata": {
    "collapsed": true
   },
   "outputs": [],
   "source": [
    "res = requests.get('http://localhost:9200')"
   ]
  },
  {
   "cell_type": "code",
   "execution_count": 3,
   "metadata": {
    "collapsed": false
   },
   "outputs": [
    {
     "name": "stdout",
     "output_type": "stream",
     "text": [
      "{\n",
      "  \"status\" : 200,\n",
      "  \"name\" : \"reed_01_dev\",\n",
      "  \"cluster_name\" : \"elasticsearch_reed-dev\",\n",
      "  \"version\" : {\n",
      "    \"number\" : \"1.7.0\",\n",
      "    \"build_hash\" : \"929b9739cae115e73c346cb5f9a6f24ba735a743\",\n",
      "    \"build_timestamp\" : \"2015-07-16T14:31:07Z\",\n",
      "    \"build_snapshot\" : false,\n",
      "    \"lucene_version\" : \"4.10.4\"\n",
      "  },\n",
      "  \"tagline\" : \"You Know, for Search\"\n",
      "}\n",
      "\n"
     ]
    }
   ],
   "source": [
    "print(res.content)"
   ]
  },
  {
   "cell_type": "markdown",
   "metadata": {},
   "source": [
    "##Connect to the local cluster using Elasticsearch-py"
   ]
  },
  {
   "cell_type": "code",
   "execution_count": 4,
   "metadata": {
    "collapsed": true
   },
   "outputs": [],
   "source": [
    "from elasticsearch import Elasticsearch"
   ]
  },
  {
   "cell_type": "code",
   "execution_count": 5,
   "metadata": {
    "collapsed": true
   },
   "outputs": [],
   "source": [
    "es = Elasticsearch([{'host': 'localhost', 'port': 9200}])"
   ]
  },
  {
   "cell_type": "code",
   "execution_count": 6,
   "metadata": {
    "collapsed": false
   },
   "outputs": [
    {
     "name": "stdout",
     "output_type": "stream",
     "text": [
      "18\n"
     ]
    }
   ],
   "source": [
    "import json\n",
    "r = requests.get('http://localhost:9200')\n",
    "i = 1\n",
    "while r.status_code == 200:\n",
    "    r = requests.get('http://swapi.co/api/people/' + str(i))\n",
    "    es.index(index='sw', doc_type='people', id=i,\n",
    "             body=json.loads(r.content))\n",
    "    i += 1\n",
    "    \n",
    "print(i)"
   ]
  },
  {
   "cell_type": "code",
   "execution_count": 7,
   "metadata": {
    "collapsed": false
   },
   "outputs": [
    {
     "data": {
      "text/plain": [
       "{u'_id': u'5',\n",
       " u'_index': u'sw',\n",
       " u'_source': {u'birth_year': u'19BBY',\n",
       "  u'created': u'2014-12-10T15:20:09.791000Z',\n",
       "  u'edited': u'2014-12-20T21:17:50.315000Z',\n",
       "  u'eye_color': u'brown',\n",
       "  u'films': [u'http://swapi.co/api/films/6/',\n",
       "   u'http://swapi.co/api/films/3/',\n",
       "   u'http://swapi.co/api/films/2/',\n",
       "   u'http://swapi.co/api/films/1/'],\n",
       "  u'gender': u'female',\n",
       "  u'hair_color': u'brown',\n",
       "  u'height': u'150',\n",
       "  u'homeworld': u'http://swapi.co/api/planets/2/',\n",
       "  u'mass': u'49',\n",
       "  u'name': u'Leia Organa',\n",
       "  u'skin_color': u'light',\n",
       "  u'species': [u'http://swapi.co/api/species/1/'],\n",
       "  u'starships': [],\n",
       "  u'url': u'http://swapi.co/api/people/5/',\n",
       "  u'vehicles': [u'http://swapi.co/api/vehicles/30/']},\n",
       " u'_type': u'people',\n",
       " u'_version': 1,\n",
       " u'found': True}"
      ]
     },
     "execution_count": 7,
     "metadata": {},
     "output_type": "execute_result"
    }
   ],
   "source": [
    "es.get(index='sw', doc_type='people', id=5)"
   ]
  },
  {
   "cell_type": "markdown",
   "metadata": {},
   "source": [
    "###Run: ```'bin/elasticsearch -Des.node.name=Node-2'``` from the command line to spin up a second node"
   ]
  },
  {
   "cell_type": "code",
   "execution_count": 10,
   "metadata": {
    "collapsed": true
   },
   "outputs": [],
   "source": [
    "r = requests.get('http://localhost:9201')\n",
    "i = 18\n",
    "while r.status_code == 200:\n",
    "    r = requests.get('http://swapi.co/api/people/' + str(i))\n",
    "    es.index(index='sw', doc_type='people', id=i,\n",
    "             body=json.loads(r.content))\n",
    "    i += 1"
   ]
  },
  {
   "cell_type": "code",
   "execution_count": 12,
   "metadata": {
    "collapsed": false
   },
   "outputs": [
    {
     "data": {
      "text/plain": [
       "{u'_shards': {u'failed': 0, u'successful': 5, u'total': 5},\n",
       " u'hits': {u'hits': [{u'_id': u'44',\n",
       "    u'_index': u'sw',\n",
       "    u'_score': 2.8259742,\n",
       "    u'_source': {u'birth_year': u'54BBY',\n",
       "     u'created': u'2014-12-19T18:00:41.929000Z',\n",
       "     u'edited': u'2014-12-20T21:17:50.403000Z',\n",
       "     u'eye_color': u'yellow',\n",
       "     u'films': [u'http://swapi.co/api/films/4/'],\n",
       "     u'gender': u'male',\n",
       "     u'hair_color': u'none',\n",
       "     u'height': u'175',\n",
       "     u'homeworld': u'http://swapi.co/api/planets/36/',\n",
       "     u'mass': u'80',\n",
       "     u'name': u'Darth Maul',\n",
       "     u'skin_color': u'red',\n",
       "     u'species': [u'http://swapi.co/api/species/22/'],\n",
       "     u'starships': [u'http://swapi.co/api/starships/41/'],\n",
       "     u'url': u'http://swapi.co/api/people/44/',\n",
       "     u'vehicles': [u'http://swapi.co/api/vehicles/42/']},\n",
       "    u'_type': u'people'},\n",
       "   {u'_id': u'4',\n",
       "    u'_index': u'sw',\n",
       "    u'_score': 0.63437396,\n",
       "    u'_source': {u'birth_year': u'41.9BBY',\n",
       "     u'created': u'2014-12-10T15:18:20.704000Z',\n",
       "     u'edited': u'2014-12-20T21:17:50.313000Z',\n",
       "     u'eye_color': u'yellow',\n",
       "     u'films': [u'http://swapi.co/api/films/6/',\n",
       "      u'http://swapi.co/api/films/3/',\n",
       "      u'http://swapi.co/api/films/2/',\n",
       "      u'http://swapi.co/api/films/1/'],\n",
       "     u'gender': u'male',\n",
       "     u'hair_color': u'none',\n",
       "     u'height': u'202',\n",
       "     u'homeworld': u'http://swapi.co/api/planets/1/',\n",
       "     u'mass': u'136',\n",
       "     u'name': u'Darth Vader',\n",
       "     u'skin_color': u'white',\n",
       "     u'species': [u'http://swapi.co/api/species/1/'],\n",
       "     u'starships': [u'http://swapi.co/api/starships/13/'],\n",
       "     u'url': u'http://swapi.co/api/people/4/',\n",
       "     u'vehicles': []},\n",
       "    u'_type': u'people'}],\n",
       "  u'max_score': 2.8259742,\n",
       "  u'total': 2},\n",
       " u'timed_out': False,\n",
       " u'took': 6}"
      ]
     },
     "execution_count": 12,
     "metadata": {},
     "output_type": "execute_result"
    }
   ],
   "source": [
    "es.search(index='sw', body={\"query\": {\"match\": \n",
    "                                      {\"name\": \"Darth Maul\"}}})"
   ]
  }
 ],
 "metadata": {
  "kernelspec": {
   "display_name": "Python 2",
   "language": "python",
   "name": "python2"
  },
  "language_info": {
   "codemirror_mode": {
    "name": "ipython",
    "version": 2
   },
   "file_extension": ".py",
   "mimetype": "text/x-python",
   "name": "python",
   "nbconvert_exporter": "python",
   "pygments_lexer": "ipython2",
   "version": "2.7.10"
  }
 },
 "nbformat": 4,
 "nbformat_minor": 0
}
